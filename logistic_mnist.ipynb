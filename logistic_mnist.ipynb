{
 "cells": [
  {
   "cell_type": "code",
   "execution_count": 3,
   "metadata": {},
   "outputs": [],
   "source": [
    "import tensorflow as tf\n",
    "from tensorflow.examples.tutorials.mnist import input_data"
   ]
  },
  {
   "cell_type": "code",
   "execution_count": 16,
   "metadata": {},
   "outputs": [
    {
     "name": "stdout",
     "output_type": "stream",
     "text": [
      "Extracting dataset/train-images-idx3-ubyte.gz\n",
      "Extracting dataset/train-labels-idx1-ubyte.gz\n",
      "Extracting dataset/t10k-images-idx3-ubyte.gz\n",
      "Extracting dataset/t10k-labels-idx1-ubyte.gz\n"
     ]
    }
   ],
   "source": [
    "#加载数据集\n",
    "mnist=input_data.read_data_sets('dataset/',one_hot=True);"
   ]
  },
  {
   "cell_type": "code",
   "execution_count": 17,
   "metadata": {},
   "outputs": [
    {
     "name": "stdout",
     "output_type": "stream",
     "text": [
      "type of 'mnist is <class 'tensorflow.contrib.learn.python.learn.datasets.base.Datasets'>'\n",
      "number of train data is 55000\n",
      "number of test data is 10000\n"
     ]
    }
   ],
   "source": [
    "#mnist数据集类型，训练集和测试集数量\n",
    "print(\"type of 'mnist is %s'\" % (type(mnist)))\n",
    "print(\"number of train data is %d\" % mnist.train.num_examples)\n",
    "print(\"number of test data is %d\" % mnist.test.num_examples)"
   ]
  },
  {
   "cell_type": "code",
   "execution_count": 18,
   "metadata": {},
   "outputs": [
    {
     "name": "stdout",
     "output_type": "stream",
     "text": [
      "type train_img is <class 'numpy.ndarray'>\n",
      "type train_label is <class 'numpy.ndarray'>\n",
      "Type of test_img is <class 'numpy.ndarray'>\n",
      "Type of test_label is <class 'numpy.ndarray'>\n"
     ]
    }
   ],
   "source": [
    "#训练集和测试集的图片和标签类型\n",
    "train_img=mnist.train.images\n",
    "print('type train_img is %s' % (type(train_img)))\n",
    "\n",
    "train_label=mnist.train.labels\n",
    "print('type train_label is %s' % (type(train_label)))\n",
    "\n",
    "test_img=mnist.test.images\n",
    "print(\"Type of test_img is %s\" % (type(test_img)))\n",
    "\n",
    "test_label=mnist.test.labels\n",
    "print(\"Type of test_label is %s\" % (type(test_label)))"
   ]
  },
  {
   "cell_type": "code",
   "execution_count": 19,
   "metadata": {},
   "outputs": [
    {
     "data": {
      "image/png": "[encoded data removed]",
      "text/plain": [
       "<Figure size 288x288 with 1 Axes>"
      ]
     },
     "metadata": {
      "needs_background": "light"
     },
     "output_type": "display_data"
    }
   ],
   "source": [
    "#可视化\n",
    "import numpy as np\n",
    "import matplotlib.pyplot as plt\n",
    "\n",
    "rand=np.random.randint(train_img.shape[0],size=1)\n",
    "\n",
    "for i in rand:\n",
    "    show_img=np.reshape(train_img[i,:],(28,28))\n",
    "    show_label=np.argmax(train_label[i,:])\n",
    "    plt.matshow(show_img,cmap=plt.get_cmap('gray'))\n",
    "    plt.show()"
   ]
  },
  {
   "cell_type": "code",
   "execution_count": 20,
   "metadata": {},
   "outputs": [],
   "source": [
    "#保存为RGB图片\n",
    "from PIL import Image\n",
    "import struct\n",
    "import gzip\n",
    "\n",
    "def save_imgRgb(path_img):\n",
    "    with gzip.open(path_img) as bytestream:\n",
    "        index=0\n",
    "        buf=bytestream.read()\n",
    "        magic,images,row,col=struct.unpack_from('>IIII',buf,index)\n",
    "        index+=struct.calcsize('>IIII')\n",
    "        for i in range(10):\n",
    "            img=Image.new('RGB',(col,row))\n",
    "            for x in range(row):\n",
    "                for y in range(col):\n",
    "                    img.putpixel((y,x),int(struct.unpack_from('>B',buf,index)[0]))\n",
    "                    index+=struct.calcsize('>B')\n",
    "            img.save('img_rgb/'+str(i)+'.png')\n",
    "    return\n",
    "\n",
    "save_imgRgb('dataset/train-images-idx3-ubyte.gz')"
   ]
  },
  {
   "cell_type": "code",
   "execution_count": 21,
   "metadata": {},
   "outputs": [],
   "source": [
    "#保存为GRAY图片\n",
    "from PIL import Image\n",
    "\n",
    "def save_imgGray(path_img):\n",
    "    for i in range(10):\n",
    "        img=mnist.train.images[i,:]\n",
    "        img=img.reshape(28,28)\n",
    "        name_img='img_gray/'+'%d.jpg' % i\n",
    "        Image.fromarray((img*255).astype('uint8'),mode='L').save(name_img)\n",
    "    return \n",
    "\n",
    "save_imgGray('dataset/train-images-idx3-ubyte.gz')"
   ]
  },
  {
   "cell_type": "code",
   "execution_count": 22,
   "metadata": {},
   "outputs": [],
   "source": [
    "#使用逻辑回归训练数据集\n",
    "\n",
    "X=tf.placeholder(tf.float32,[None,784])#输入向量X\n",
    "y=tf.placeholder(tf.float32,[None,10])#输出类别y\n",
    "\n",
    "#模型参数\n",
    "W=tf.Variable(tf.zeros([784,10]))#权重\n",
    "b=tf.Variable(tf.zeros([10]))#偏置\n",
    "\n",
    "#使用softmax()对输出数据进行处理\n",
    "actv=tf.nn.softmax(tf.matmul(X,W)+b)\n",
    "\n",
    "#使用交叉熵损失函数\n",
    "loss=tf.reduce_mean(-tf.reduce_sum(y*tf.log(tf.clip_by_value(actv,1e-10,1.0)),reduction_indices=1))\n",
    "\n",
    "#使用梯度下降优化参数\n",
    "lr=0.01\n",
    "optm=tf.train.AdamOptimizer(lr).minimize(loss)\n",
    "\n",
    "#判断预测值和标签值是否已有一样\n",
    "pred=tf.equal(tf.argmax(actv,1),tf.argmax(y,1))\n",
    "\n",
    "#求pred的均值，即为准确率\n",
    "accr=tf.reduce_mean(tf.cast(pred,tf.float32))"
   ]
  },
  {
   "cell_type": "code",
   "execution_count": 23,
   "metadata": {},
   "outputs": [
    {
     "name": "stdout",
     "output_type": "stream",
     "text": [
      "Epoch:0000/10001,loss:0.342632,train_acc:0.916545,test_acc:0.920500\n",
      "Epoch:0500/10001,loss:0.230439,train_acc:0.931709,test_acc:0.908200\n",
      "Epoch:1000/10001,loss:0.232333,train_acc:0.937145,test_acc:0.909700\n",
      "Epoch:1500/10001,loss:0.230566,train_acc:0.934455,test_acc:0.907100\n",
      "Epoch:2000/10001,loss:0.234246,train_acc:0.938109,test_acc:0.914200\n",
      "Epoch:2500/10001,loss:0.231380,train_acc:0.939127,test_acc:0.912500\n",
      "Epoch:3000/10001,loss:0.232131,train_acc:0.940018,test_acc:0.913700\n",
      "Epoch:3500/10001,loss:0.231499,train_acc:0.932655,test_acc:0.906700\n",
      "Epoch:4000/10001,loss:0.231304,train_acc:0.937836,test_acc:0.910900\n",
      "Epoch:4500/10001,loss:0.231856,train_acc:0.934018,test_acc:0.907800\n",
      "Epoch:5000/10001,loss:0.230909,train_acc:0.936236,test_acc:0.912900\n",
      "Epoch:5500/10001,loss:0.232853,train_acc:0.930345,test_acc:0.905400\n",
      "Epoch:6000/10001,loss:0.232381,train_acc:0.925836,test_acc:0.901300\n",
      "Epoch:6500/10001,loss:0.231979,train_acc:0.926564,test_acc:0.902900\n",
      "Epoch:7000/10001,loss:0.232359,train_acc:0.935945,test_acc:0.910200\n",
      "Epoch:7500/10001,loss:0.232027,train_acc:0.936582,test_acc:0.912000\n",
      "Epoch:8000/10001,loss:0.231637,train_acc:0.937400,test_acc:0.913000\n",
      "Epoch:8500/10001,loss:0.231750,train_acc:0.926673,test_acc:0.899100\n",
      "Epoch:9000/10001,loss:0.230663,train_acc:0.933600,test_acc:0.909700\n",
      "Epoch:9500/10001,loss:0.230132,train_acc:0.936509,test_acc:0.912400\n",
      "Epoch:10000/10001,loss:0.230191,train_acc:0.937764,test_acc:0.911600\n",
      "Finsh!\n"
     ]
    }
   ],
   "source": [
    "#初始化\n",
    "init_op=tf.global_variables_initializer()\n",
    "\n",
    "#设置超参数\n",
    "epochs_num=10001\n",
    "batch_size=100\n",
    "display_step=500\n",
    "\n",
    "with tf.Session() as sess:\n",
    "    sess.run(init_op)\n",
    "    for epoch in range(epochs_num):\n",
    "        avg_loss=0\n",
    "        #计算训练数据可以划分多少个batch大小的组\n",
    "        num_batch=int(mnist.train.num_examples/batch_size)\n",
    "                \n",
    "        for i in range(num_batch):\n",
    "            #next_batch():第一次取1-10，第二次取11-20,...\n",
    "            batch_xs,batch_ys=mnist.train.next_batch(batch_size)\n",
    "            #开始训练\n",
    "            feeds={X:batch_xs,y:batch_ys}\n",
    "            sess.run(optm,feed_dict=feeds)\n",
    "            #累积计算总损失值\n",
    "            avg_loss+=sess.run(loss,feed_dict=feeds)/num_batch\n",
    "        \n",
    "        #打印数据\n",
    "        if (epoch % display_step==0):\n",
    "            #全部训练集\n",
    "            feed_train={X:train_img,y:train_label}\n",
    "            #测试\n",
    "            feed_test={X:test_img,y:test_label}\n",
    "            train_acc=sess.run(accr,feed_dict=feed_train)\n",
    "            test_acc=sess.run(accr,feed_dict=feed_test)\n",
    "            \n",
    "            #打印参数\n",
    "            print('Epoch:%04d/%04d,loss:%.6f,train_acc:%.6f,test_acc:%.6f' % \n",
    "                 (epoch,epochs_num,avg_loss,train_acc,test_acc))\n",
    "\n",
    "print('Finsh!')"
   ]
  },
  {
   "cell_type": "code",
   "execution_count": null,
   "metadata": {},
   "outputs": [],
   "source": []
  }
 ],
 "metadata": {
  "kernelspec": {
   "display_name": "Python 3",
   "language": "python",
   "name": "python3"
  },
  "language_info": {
   "codemirror_mode": {
    "name": "ipython",
    "version": 3
   },
   "file_extension": ".py",
   "mimetype": "text/x-python",
   "name": "python",
   "nbconvert_exporter": "python",
   "pygments_lexer": "ipython3",
   "version": "3.6.10"
  }
 },
 "nbformat": 4,
 "nbformat_minor": 4
}
